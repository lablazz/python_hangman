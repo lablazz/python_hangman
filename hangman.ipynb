{
 "cells": [
  {
   "cell_type": "markdown",
   "metadata": {},
   "source": [
    "Import Lib"
   ]
  },
  {
   "cell_type": "code",
   "execution_count": 9,
   "metadata": {},
   "outputs": [],
   "source": [
    "import random\n",
    "import os"
   ]
  },
  {
   "cell_type": "markdown",
   "metadata": {},
   "source": [
    "Add some word to dataset"
   ]
  },
  {
   "cell_type": "code",
   "execution_count": 10,
   "metadata": {},
   "outputs": [],
   "source": [
    "def clear_console():\n",
    "    os.system('cls' if os.name == 'nt' else 'clear')\n",
    "\n",
    "def choose_word():\n",
    "    words = ['python', 'hangman', 'computer', 'programming', 'challenge']\n",
    "    return random.choice(words)\n",
    "\n",
    "def display_word(word, guessed_letters):\n",
    "    return ' '.join(letter if letter in guessed_letters else '_' for letter in word)"
   ]
  },
  {
   "cell_type": "markdown",
   "metadata": {},
   "source": [
    "Call the game window"
   ]
  },
  {
   "cell_type": "code",
   "execution_count": 11,
   "metadata": {},
   "outputs": [],
   "source": [
    "def hangman():\n",
    "    word = choose_word()\n",
    "    guessed_letters = set()\n",
    "    attempts = 6\n",
    "    \n",
    "    print(\"Welcome to Hangman!\")\n",
    "    \n",
    "    while attempts > 0:\n",
    "        clear_console()\n",
    "        print(f\"\\nWord: {display_word(word, guessed_letters)}\")\n",
    "        print(f\"Guessed letter : \" + \" \".join(sorted(guessed_letters)))\n",
    "        print(f\"Attempts left: {attempts}\")\n",
    "        guess = input(\"Guess a letter: \").lower()\n",
    "        \n",
    "        if len(guess) != 1 or not guess.isalpha():\n",
    "            print(\"Please enter a single valid letter.\")\n",
    "            continue\n",
    "        \n",
    "        if guess in guessed_letters:\n",
    "            print(\"You've already guessed that letter.\")\n",
    "            continue\n",
    "        \n",
    "        guessed_letters.add(guess)\n",
    "        \n",
    "        if guess in word:\n",
    "            print(\"Good guess!\")\n",
    "            if all(letter in guessed_letters for letter in word):\n",
    "                print(f\"Congratulations! You guessed the word: {word}\")\n",
    "                return\n",
    "        else:\n",
    "            print(\"Wrong guess!\")\n",
    "            attempts -= 1\n",
    "    \n",
    "    print(f\"Game Over! The word was: {word}\")"
   ]
  },
  {
   "cell_type": "code",
   "execution_count": 12,
   "metadata": {},
   "outputs": [
    {
     "name": "stdout",
     "output_type": "stream",
     "text": [
      "Welcome to Hangman!\n",
      "\n",
      "Word: _ _ _ _ _ _ _ _ _ _ _\n",
      "Guessed letter : \n",
      "Attempts left: 6\n",
      "Good guess!\n",
      "\n",
      "Word: _ _ _ _ _ a _ _ _ _ _\n",
      "Guessed letter : a\n",
      "Attempts left: 6\n",
      "Wrong guess!\n",
      "\n",
      "Word: _ _ _ _ _ a _ _ _ _ _\n",
      "Guessed letter : a l\n",
      "Attempts left: 5\n",
      "Wrong guess!\n",
      "\n",
      "Word: _ _ _ _ _ a _ _ _ _ _\n",
      "Guessed letter : a b l\n",
      "Attempts left: 4\n",
      "Wrong guess!\n",
      "\n",
      "Word: _ _ _ _ _ a _ _ _ _ _\n",
      "Guessed letter : a b l t\n",
      "Attempts left: 3\n",
      "Wrong guess!\n",
      "\n",
      "Word: _ _ _ _ _ a _ _ _ _ _\n",
      "Guessed letter : a b c l t\n",
      "Attempts left: 2\n",
      "You've already guessed that letter.\n",
      "\n",
      "Word: _ _ _ _ _ a _ _ _ _ _\n",
      "Guessed letter : a b c l t\n",
      "Attempts left: 2\n",
      "You've already guessed that letter.\n",
      "\n",
      "Word: _ _ _ _ _ a _ _ _ _ _\n",
      "Guessed letter : a b c l t\n",
      "Attempts left: 2\n",
      "You've already guessed that letter.\n",
      "\n",
      "Word: _ _ _ _ _ a _ _ _ _ _\n",
      "Guessed letter : a b c l t\n",
      "Attempts left: 2\n",
      "Wrong guess!\n",
      "\n",
      "Word: _ _ _ _ _ a _ _ _ _ _\n",
      "Guessed letter : a b c l q t\n",
      "Attempts left: 1\n",
      "Good guess!\n",
      "\n",
      "Word: _ r _ _ r a _ _ _ _ _\n",
      "Guessed letter : a b c l q r t\n",
      "Attempts left: 1\n",
      "Wrong guess!\n",
      "Game Over! The word was: programming\n"
     ]
    }
   ],
   "source": [
    "if __name__ == \"__main__\":\n",
    "    hangman()"
   ]
  }
 ],
 "metadata": {
  "kernelspec": {
   "display_name": "Python 3",
   "language": "python",
   "name": "python3"
  },
  "language_info": {
   "codemirror_mode": {
    "name": "ipython",
    "version": 3
   },
   "file_extension": ".py",
   "mimetype": "text/x-python",
   "name": "python",
   "nbconvert_exporter": "python",
   "pygments_lexer": "ipython3",
   "version": "3.13.0"
  }
 },
 "nbformat": 4,
 "nbformat_minor": 2
}
